{
 "cells": [
  {
   "cell_type": "code",
   "execution_count": null,
   "id": "90b6a20b-1e3a-4f9f-bf25-ca4f5a607453",
   "metadata": {},
   "outputs": [],
   "source": [
    "import os\n",
    "import glob\n",
    "import numpy as np\n",
    "import time\n",
    "import scipy\n",
    "import json\n",
    "import Additive_mixing_layers_extraction\n",
    "from scipy.spatial import ConvexHull, Delaunay\n",
    "import scipy.sparse\n",
    "import PIL.Image as Image\n",
    "import RGBXY_method\n",
    "from numpy import *\n",
    "from matplotlib import pyplot as plt\n",
    "Additive_mixing_layers_extraction.DEMO=True"
   ]
  },
  {
   "cell_type": "code",
   "execution_count": null,
   "id": "7cce30c7-3cab-4cd5-9ef4-ab3e7a83afb0",
   "metadata": {},
   "outputs": [],
   "source": []
  },
  {
   "cell_type": "code",
   "execution_count": null,
   "id": "0f2e1f8c-f82b-409d-8f64-a3a1429f755e",
   "metadata": {},
   "outputs": [],
   "source": [
    "def get_img_palette(img, out_prefix):\n",
    "    arr=img.copy()\n",
    "    X,Y=np.mgrid[0:img.shape[0], 0:img.shape[1]]\n",
    "    XY=np.dstack((X*1.0/img.shape[0],Y*1.0/img.shape[1]))\n",
    "    data=np.dstack((img, XY))\n",
    "    \n",
    "    start=time.time()\n",
    "    palette_rgb=Additive_mixing_layers_extraction.Hull_Simplification_determined_version(img, out_prefix + \"-convexhull_vertices\")\n",
    "    end=time.time()\n",
    "    \n",
    "    print(\"palette extraction time: \", end-start)\n",
    "    \n",
    "    return palette_rgb\n",
    "\n",
    "def vis_palette(palette):\n",
    "    ##### palette shape is M*3\n",
    "    c=50\n",
    "    palette2=np.ones((1*c, len(palette)*c, 3))\n",
    "    for i in range(len(palette)):\n",
    "        palette2[:,i*c:i*c+c,:]=palette[i,:].reshape((1,1,-1))\n",
    "    \n",
    "    plt.imshow(palette2)\n",
    "    "
   ]
  },
  {
   "cell_type": "code",
   "execution_count": null,
   "id": "1bac5fca-364e-4988-91ee-9fd6970d4dc8",
   "metadata": {},
   "outputs": [],
   "source": []
  },
  {
   "cell_type": "markdown",
   "id": "6cb3452a-1efd-4920-9d4c-a706c2969667",
   "metadata": {},
   "source": [
    "### Lego "
   ]
  },
  {
   "cell_type": "code",
   "execution_count": null,
   "id": "8ee31ad3-f69c-487e-accd-15835186635b",
   "metadata": {},
   "outputs": [],
   "source": [
    "img_dir = '/home/wyh/data/datasets/NeRF_datasets/nerf_synthetic/lego/train/'\n",
    "output_dir = '/home/wyh/data/nerf-pytorch/data_palette/lego/'\n",
    "\n",
    "if not os.path.exists(output_dir):\n",
    "    os.makedirs(output_dir, exist_ok=True)\n",
    "\n",
    "img_paths = sorted(glob.glob(img_dir + \"*.png\"))\n",
    "print('num of imgs:', len(img_paths))"
   ]
  },
  {
   "cell_type": "code",
   "execution_count": null,
   "id": "fc764316-e617-4212-be97-6e8a7064e608",
   "metadata": {},
   "outputs": [],
   "source": [
    "img_path = img_paths[10]\n",
    "out_prefix = os.path.join(output_dir, 'rgb_palette')\n",
    "\n",
    "img = np.asfarray(Image.open(img_path).convert('RGB')) / 255.0\n",
    "plt.imshow(img)"
   ]
  },
  {
   "cell_type": "code",
   "execution_count": null,
   "id": "73d6a1ec-1d4d-4517-93c9-3a9f2ae61cd3",
   "metadata": {},
   "outputs": [],
   "source": [
    "p = get_img_palette(img, out_prefix)\n",
    "vis_palette(p)"
   ]
  },
  {
   "cell_type": "code",
   "execution_count": null,
   "id": "35772c77-a8b0-4013-9cee-2c7c649e9c82",
   "metadata": {},
   "outputs": [],
   "source": [
    "np.save(os.path.join(output_dir, 'rgb_palette.npy'), p)"
   ]
  },
  {
   "cell_type": "code",
   "execution_count": null,
   "id": "82acd913-d700-4b08-9771-5a0a6801b641",
   "metadata": {},
   "outputs": [],
   "source": []
  },
  {
   "cell_type": "markdown",
   "id": "da36db32-553b-4c16-a671-f0c83f4ebbbb",
   "metadata": {},
   "source": [
    "### Orchid"
   ]
  },
  {
   "cell_type": "code",
   "execution_count": null,
   "id": "08cc6687-7d23-4a46-8969-4bea00fde1ea",
   "metadata": {},
   "outputs": [],
   "source": [
    "img_dir = '/home/wyh/data/datasets/NeRF_datasets/nerf_llff_data/orchids/images/'\n",
    "output_dir = '/home/wyh/data/nerf-pytorch/data_palette/orchids/'\n",
    "\n",
    "if not os.path.exists(output_dir):\n",
    "    os.makedirs(output_dir, exist_ok=True)\n",
    "\n",
    "img_paths = sorted(glob.glob(img_dir + \"*.JPG\"))\n",
    "print('num of imgs:', len(img_paths))"
   ]
  },
  {
   "cell_type": "code",
   "execution_count": null,
   "id": "6e938e5f-0f38-4d0c-b48a-5b86051485dc",
   "metadata": {},
   "outputs": [],
   "source": [
    "img_path = img_paths[0]\n",
    "out_prefix = os.path.join(output_dir, 'rgb_palette')\n",
    "\n",
    "img = np.asfarray(Image.open(img_path).convert('RGB')) / 255.0\n",
    "plt.imshow(img)"
   ]
  },
  {
   "cell_type": "code",
   "execution_count": null,
   "id": "d5bf774c-eb7a-4ada-9b69-b900eab8a992",
   "metadata": {},
   "outputs": [],
   "source": [
    "p = get_img_palette(img, out_prefix)\n",
    "vis_palette(p)"
   ]
  },
  {
   "cell_type": "code",
   "execution_count": null,
   "id": "087e2b0e-fd40-4810-b9e4-ea612ab8cef3",
   "metadata": {},
   "outputs": [],
   "source": [
    "np.save(os.path.join(output_dir, 'rgb_palette.npy'), p)"
   ]
  },
  {
   "cell_type": "code",
   "execution_count": null,
   "id": "ee48e2ea-8492-455c-a1de-6790f0ac5b1c",
   "metadata": {},
   "outputs": [],
   "source": []
  }
 ],
 "metadata": {
  "kernelspec": {
   "display_name": "Python 3",
   "language": "python",
   "name": "python3"
  },
  "language_info": {
   "codemirror_mode": {
    "name": "ipython",
    "version": 3
   },
   "file_extension": ".py",
   "mimetype": "text/x-python",
   "name": "python",
   "nbconvert_exporter": "python",
   "pygments_lexer": "ipython3",
   "version": "3.6.13"
  }
 },
 "nbformat": 4,
 "nbformat_minor": 5
}
